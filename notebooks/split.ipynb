{
 "cells": [
  {
   "cell_type": "code",
   "execution_count": 1,
   "metadata": {},
   "outputs": [],
   "source": [
    "from collections import Counter\n",
    "import numpy as np\n",
    "import pandas as pd\n",
    "from iterstrat.ml_stratifiers import MultilabelStratifiedShuffleSplit\n",
    "from sklearn.preprocessing import MultiLabelBinarizer"
   ]
  },
  {
   "cell_type": "code",
   "execution_count": 2,
   "metadata": {},
   "outputs": [],
   "source": [
    "df = pd.read_csv('/media/1t/protein/data/train.csv')\n",
    "X, y = df.Id.values, df.Target.str.split().values\n",
    "binarizer = MultiLabelBinarizer().fit(y)\n",
    "y_bin = binarizer.transform(y).astype(np.float32)\n",
    "msss = MultilabelStratifiedShuffleSplit(n_splits=1, test_size=0.2, random_state=4242)\n",
    "train_index, test_index = list(msss.split(X, y_bin))[0]\n",
    "X_folds, X_holdout = X[train_index], X[test_index]\n",
    "y_folds, y_holdout = y[train_index], y[test_index]"
   ]
  },
  {
   "cell_type": "code",
   "execution_count": 3,
   "metadata": {},
   "outputs": [
    {
     "data": {
      "text/plain": [
       "[('0', 10308),\n",
       " ('25', 6582),\n",
       " ('21', 3022),\n",
       " ('2', 2897),\n",
       " ('23', 2372),\n",
       " ('7', 2258),\n",
       " ('5', 2010),\n",
       " ('4', 1486),\n",
       " ('3', 1249),\n",
       " ('19', 1186),\n",
       " ('1', 1003),\n",
       " ('11', 874),\n",
       " ('14', 853),\n",
       " ('6', 806),\n",
       " ('18', 722),\n",
       " ('22', 642),\n",
       " ('12', 550),\n",
       " ('13', 430),\n",
       " ('16', 424),\n",
       " ('26', 262),\n",
       " ('24', 258),\n",
       " ('17', 168),\n",
       " ('20', 138),\n",
       " ('8', 42),\n",
       " ('9', 36),\n",
       " ('10', 22),\n",
       " ('15', 17),\n",
       " ('27', 9)]"
      ]
     },
     "execution_count": 3,
     "metadata": {},
     "output_type": "execute_result"
    }
   ],
   "source": [
    "# train\n",
    "Counter([x for l in y_folds for x in l]).most_common()"
   ]
  },
  {
   "cell_type": "code",
   "execution_count": 4,
   "metadata": {},
   "outputs": [
    {
     "data": {
      "text/plain": [
       "[('0', 2577),\n",
       " ('25', 1646),\n",
       " ('21', 755),\n",
       " ('2', 724),\n",
       " ('23', 593),\n",
       " ('7', 564),\n",
       " ('5', 503),\n",
       " ('4', 372),\n",
       " ('3', 312),\n",
       " ('19', 296),\n",
       " ('1', 251),\n",
       " ('11', 219),\n",
       " ('14', 213),\n",
       " ('6', 202),\n",
       " ('18', 180),\n",
       " ('22', 160),\n",
       " ('12', 138),\n",
       " ('13', 107),\n",
       " ('16', 106),\n",
       " ('26', 66),\n",
       " ('24', 64),\n",
       " ('17', 42),\n",
       " ('20', 34),\n",
       " ('8', 11),\n",
       " ('9', 9),\n",
       " ('10', 6),\n",
       " ('15', 4),\n",
       " ('27', 2)]"
      ]
     },
     "execution_count": 4,
     "metadata": {},
     "output_type": "execute_result"
    }
   ],
   "source": [
    "#holdout\n",
    "Counter([x for l in y_holdout for x in l]).most_common()"
   ]
  },
  {
   "cell_type": "code",
   "execution_count": 5,
   "metadata": {},
   "outputs": [],
   "source": [
    "pd.DataFrame({\n",
    "    'Id': X_holdout,\n",
    "    'Target': pd.Series(y_holdout).str.join(' '),\n",
    "}).to_csv('../folds/holdout.csv', index=False)"
   ]
  },
  {
   "cell_type": "code",
   "execution_count": 6,
   "metadata": {},
   "outputs": [],
   "source": [
    "external = pd.read_csv('/media/1t/protein/data/HPAv18RBGY_wodpl.csv')\n",
    "X_folds = np.concatenate([X_folds, external.Id.values])\n",
    "y_folds = np.concatenate([y_folds, external.Target.str.split().values])\n",
    "y_folds_bin = binarizer.transform(y_folds).astype(np.float32)\n",
    "msss = MultilabelStratifiedShuffleSplit(n_splits=5, random_state=4242)\n",
    "for i, (train_index, test_index) in enumerate(msss.split(X_folds, y_folds_bin)):\n",
    "    X_train, X_test = X_folds[train_index], X_folds[test_index]\n",
    "    y_train, y_test = y_folds[train_index], y_folds[test_index]\n",
    "    \n",
    "    pd.DataFrame({\n",
    "        'Id': X_train,\n",
    "        'Target': pd.Series(y_train).str.join(' '),\n",
    "    }).to_csv(f'../folds/fold{i + 1}_train.csv', index=False)\n",
    "    \n",
    "    pd.DataFrame({\n",
    "        'Id': X_test,\n",
    "        'Target': pd.Series(y_test).str.join(' '),\n",
    "    }).to_csv(f'../folds/fold{i + 1}_val.csv', index=False)        "
   ]
  },
  {
   "cell_type": "code",
   "execution_count": 7,
   "metadata": {},
   "outputs": [
    {
     "data": {
      "text/plain": [
       "[('0', 34543),\n",
       " ('25', 32148),\n",
       " ('21', 11749),\n",
       " ('2', 9132),\n",
       " ('23', 8777),\n",
       " ('7', 7957),\n",
       " ('5', 4891),\n",
       " ('4', 4282),\n",
       " ('6', 3171),\n",
       " ('19', 3038),\n",
       " ('3', 2715),\n",
       " ('1', 2539),\n",
       " ('22', 2312),\n",
       " ('14', 2231),\n",
       " ('12', 1885),\n",
       " ('11', 1777),\n",
       " ('18', 1542),\n",
       " ('13', 1216),\n",
       " ('16', 1066),\n",
       " ('26', 576),\n",
       " ('20', 364),\n",
       " ('17', 364),\n",
       " ('24', 328),\n",
       " ('8', 185),\n",
       " ('9', 169),\n",
       " ('10', 158),\n",
       " ('27', 112),\n",
       " ('15', 53)]"
      ]
     },
     "execution_count": 7,
     "metadata": {},
     "output_type": "execute_result"
    }
   ],
   "source": [
    "fold = pd.read_csv('../folds/fold1_train.csv')\n",
    "Counter([x for l in fold.Target.str.split() for x in l]).most_common()"
   ]
  },
  {
   "cell_type": "code",
   "execution_count": 8,
   "metadata": {},
   "outputs": [
    {
     "data": {
      "text/plain": [
       "[('0', 3838),\n",
       " ('25', 3572),\n",
       " ('21', 1305),\n",
       " ('2', 1015),\n",
       " ('23', 975),\n",
       " ('7', 884),\n",
       " ('5', 544),\n",
       " ('4', 476),\n",
       " ('6', 352),\n",
       " ('19', 338),\n",
       " ('3', 302),\n",
       " ('1', 282),\n",
       " ('22', 257),\n",
       " ('14', 248),\n",
       " ('12', 210),\n",
       " ('11', 198),\n",
       " ('18', 171),\n",
       " ('13', 135),\n",
       " ('16', 118),\n",
       " ('26', 64),\n",
       " ('17', 40),\n",
       " ('20', 40),\n",
       " ('24', 36),\n",
       " ('8', 21),\n",
       " ('9', 19),\n",
       " ('10', 18),\n",
       " ('27', 13),\n",
       " ('15', 6)]"
      ]
     },
     "execution_count": 8,
     "metadata": {},
     "output_type": "execute_result"
    }
   ],
   "source": [
    "fold = pd.read_csv('../folds/fold1_val.csv')\n",
    "Counter([x for l in fold.Target.str.split() for x in l]).most_common()"
   ]
  }
 ],
 "metadata": {
  "kernelspec": {
   "display_name": "Python 3",
   "language": "python",
   "name": "python3"
  },
  "language_info": {
   "codemirror_mode": {
    "name": "ipython",
    "version": 3
   },
   "file_extension": ".py",
   "mimetype": "text/x-python",
   "name": "python",
   "nbconvert_exporter": "python",
   "pygments_lexer": "ipython3",
   "version": "3.6.5"
  }
 },
 "nbformat": 4,
 "nbformat_minor": 2
}
